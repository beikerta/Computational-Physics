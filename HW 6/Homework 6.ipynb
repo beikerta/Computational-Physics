{
 "cells": [
  {
   "cell_type": "markdown",
   "metadata": {},
   "source": [
    "# Homework 6\n",
    "**Alexandra Beikert, Pascal Huber, León-Alexander Hühn**"
   ]
  },
  {
   "cell_type": "markdown",
   "metadata": {},
   "source": [
    "$$\\frac{dN}{dt} = r N (1-\\frac NK) - \\frac{B N^2}{A^2 + N^2}$$\n",
    "\n",
    "\n",
    "(a) Dimensional analysis: Determine the dimension of the parameters and re-write the equation in dimensionless form. Note that there are different possibilities.Please formulate a dimensionless time $\\tau$ that is not defined on the basis of $r$. Use $n=N/A$ as the dimensionless version of $N$."
   ]
  },
  {
   "cell_type": "markdown",
   "metadata": {},
   "source": [
    "We define:\n",
    "$$n = \\frac NA$$\n",
    "$$\\tau = \\frac t{A/B}$$\n",
    "$$a = \\frac {rA}B$$\n",
    "$$\\kappa = \\frac AK$$\n",
    "\n",
    "By replacing $\\frac {dN}{dt}$ with $\\frac A{A/B} \\frac {dn}{d\\tau}$ we get: \n",
    "\n",
    "$$\\frac {dn}{d\\tau} = n a (1 - n\\kappa) - \\frac {n^2}{1+n^2}$$"
   ]
  },
  {
   "cell_type": "code",
   "execution_count": null,
   "metadata": {},
   "outputs": [],
   "source": []
  }
 ],
 "metadata": {
  "kernelspec": {
   "display_name": "Python 3",
   "language": "python",
   "name": "python3"
  },
  "language_info": {
   "codemirror_mode": {
    "name": "ipython",
    "version": 3
   },
   "file_extension": ".py",
   "mimetype": "text/x-python",
   "name": "python",
   "nbconvert_exporter": "python",
   "pygments_lexer": "ipython3",
   "version": "3.6.4"
  }
 },
 "nbformat": 4,
 "nbformat_minor": 2
}
