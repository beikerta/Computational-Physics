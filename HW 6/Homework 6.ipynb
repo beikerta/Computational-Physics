{
 "cells": [
  {
   "cell_type": "markdown",
   "metadata": {},
   "source": [
    "# Homework 6\n",
    "**Alexandra Beikert, Pascal Huber, León-Alexander Hühn**"
   ]
  },
  {
   "cell_type": "markdown",
   "metadata": {},
   "source": [
    "$$\\frac{dN}{dt} = r N (1-\\frac NK) - \\frac{B N^2}{A^2 + N^2}$$\n",
    "\n",
    "\n",
    "*(a) Dimensional analysis: Determine the dimension of the parameters and re-write the equation in dimensionless form. Note that there are different possibilities.Please formulate a dimensionless time $\\tau$ that is not defined on the basis of $r$. Use $n=N/A$ as the dimensionless version of $N$.*"
   ]
  },
  {
   "cell_type": "markdown",
   "metadata": {},
   "source": [
    "We define:\n",
    "$$n = \\frac NA$$\n",
    "$$\\tau = \\frac t{A/B}$$\n",
    "$$a = \\frac {rA}B$$\n",
    "$$\\kappa = \\frac AK$$\n",
    "\n",
    "By replacing $\\frac {dN}{dt}$ with $\\frac A{A/B} \\frac {dn}{d\\tau}$ we get: \n",
    "\n",
    "$$\\frac {dn}{d\\tau} = n a (1 - n\\kappa) - \\frac {n^2}{1+n^2}$$"
   ]
  },
  {
   "cell_type": "markdown",
   "metadata": {},
   "source": [
    "*(b) Determine the stationary points $n^*$ for $K/A = 7.5$. Note that for $n^* \\neq 0$ these values are solutions of a cubic equation; it depends on $n$ and the remaining free parameter. The cubic equation should be derived by yourself analytically; its zero points you can obtain numerically / graphically by using e.g. Mathematica. When do one or three real solutions exist as a function of the remaining free parameter?*"
   ]
  },
  {
   "cell_type": "markdown",
   "metadata": {},
   "source": [
    "The stationary point fulfill the condition  \n",
    "$$ \\frac{dn}{d\\tau} = 0 $$  \n",
    "so the equation that needs to be solved is given by  \n",
    "$$ 0 = na(1-n\\kappa)- \\frac{n^2}{1+n^2}$$  \n",
    "$$ \\Rightarrow a\\kappa n^4-an^3+(1+a\\kappa)n^2-an=0$$  \n",
    "$$ \\Rightarrow n(a\\kappa n^3-an^2+(1+a\\kappa)n-a) = 0$$  \n",
    "As expected, the solution for $n^* \\neq 0$ is given by a cubic equation. The condition $K/A = 7.5$ is equivalent to $\\kappa = 1/7.5$. For various (positive) $a$, WolframAlpha gives the solution:  \n",
    "$ a = 0 \\rightarrow n=0$  \n",
    "$ a \\in [0.05,0.45]:$ only one real solution  \n",
    "$ a = 0.5,0.55$: three real solutions  \n",
    "$ a \\geq 0.55 $: only one real solution  \n",
    "For $a = 0.5$, the solutions are $n=3,\\frac{1}{4}(9 - \\sqrt{41}), \\frac{1}{4}(9 + \\sqrt{41})$. The last two are stable solutions as they are enclosed by the minimum of the curve.\n",
    "For $a = 0.55$, the solutions are $n=0.817667,1.93016,4.75218$. Again, the last two are stable for the same reason.  \n",
    "In case there is only one real solution, its always unstable."
   ]
  }
 ],
 "metadata": {
  "kernelspec": {
   "display_name": "Python 3",
   "language": "python",
   "name": "python3"
  },
  "language_info": {
   "codemirror_mode": {
    "name": "ipython",
    "version": 3
   },
   "file_extension": ".py",
   "mimetype": "text/x-python",
   "name": "python",
   "nbconvert_exporter": "python",
   "pygments_lexer": "ipython3",
   "version": "3.7.3"
  }
 },
 "nbformat": 4,
 "nbformat_minor": 2
}
