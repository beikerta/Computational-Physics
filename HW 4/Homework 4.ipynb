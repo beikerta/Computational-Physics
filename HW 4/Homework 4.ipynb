{
 "cells": [
  {
   "cell_type": "markdown",
   "metadata": {},
   "source": [
    "**Tridiagonal Matrices (Homework)**"
   ]
  },
  {
   "cell_type": "markdown",
   "metadata": {},
   "source": [
    "**Alexandra Beikert, Pascal Huber, León-Alexander Hühn**"
   ]
  },
  {
   "cell_type": "markdown",
   "metadata": {},
   "source": [
    "*1. Derive the iterative expressions for Gaussian elimination*"
   ]
  },
  {
   "cell_type": "markdown",
   "metadata": {},
   "source": [
    "To derive the inverse $T^{-1}$ of the tridiagonal matrix $T$, we first set $t^{-1}_{ij} = \\delta_{ij}$  \n",
    "Starting from row k=1 to k=N, calculate (if steps contain invalid indices, ignore them)  \n",
    "$ t^{-1}_{kj} = t^{-1}_{kj} / t_{kk} \\qquad \\text{for} \\ j=k-1,k,k+1$  \n",
    "$ t^{-1}_{k+1,k} = t^{-1}_{k+1,k} - t^{-1}_{kk} \\cdot t_{k+1,k} / t_{kk}$  \n",
    "$ t^{-1}_{k+1,k+1} = t^{-1}_{k+1,k+1} - t^{-1}_{k,k+1} \\cdot t_{k+1,k} / t_{kk}$  \n",
    "$ t^{-1}_{k-1,k} =  t^{-1}_{k-1,k} - t^{-1}_{kk} \\cdot t_{k-1,k} / t_{kk}$  \n",
    "$ t^{-1}_{k-1,k+1} =  t^{-1}_{k-1,k} - t^{-1}_{k,k+1} \\cdot t_{k-1,k} / t_{kk}$  \n",
    "To obtain the solution of the system of equations, calculate $T^{-1} \\cdot \\vec{y}$"
   ]
  },
  {
   "cell_type": "markdown",
   "metadata": {},
   "source": [
    "*2. Derive the iterative expressions for backward substitution*"
   ]
  },
  {
   "cell_type": "markdown",
   "metadata": {},
   "source": [
    "To derive the solution to $T \\cdot \\vec{x} = \\vec{y}$, calculate for rows k=1 to k=N (ignore invalid indices as above):  \n",
    "$ t_{kj} = t_{kj} / t_{kk} \\qquad \\text{for} \\ j=k-1,k+1$  \n",
    "$ y_k = y_k / t_{kk}$  \n",
    "$ t_{kk} = t_{kk} / t_{kk} = 1$\n",
    "$ t_{k+1,k} = t_{k+1,k} - t_{k+1,k} = 0$  \n",
    "$ t_{k+1,k+1} = t_{k+1,k+1} - t_{k,k+1} \\cdot t_{k+1,k}$  \n",
    "$ y_{k+1} = y_{k+1} - t_{k+1,k} \\cdot y_k$  \n",
    "This will result in $[T, \\vec{y}]$ being in upper triangular form. From there, the solution is given by  \n",
    "Starting at i=N to i=1  \n",
    "$ x_i = \\frac{1}{t_{ii}} \\left( y_i - \\sum_{j > i} t_{ij}\\cdot x_j \\right)$"
   ]
  },
  {
   "cell_type": "markdown",
   "metadata": {},
   "source": [
    "*3. Program a subroutine that, given the values $a_2...a_N$, $b_1...b_N$, $c_1...c_{N-1}$ and $y_1...y_N$, finds the solution vector given by $x_1,...,x_N$*"
   ]
  },
  {
   "cell_type": "code",
   "execution_count": 45,
   "metadata": {},
   "outputs": [],
   "source": [
    "import numpy as np\n",
    "\n",
    "import scipy.linalg as la"
   ]
  },
  {
   "cell_type": "code",
   "execution_count": 86,
   "metadata": {},
   "outputs": [],
   "source": [
    "# a,b,c,y are arrays containing the given information (see above)\n",
    "# Notice the index shift to start at 0 rather than 1\n",
    "def solve_bsub(a,b,c,y):\n",
    "    N = len(b)\n",
    "    T = generate_matrix(a,b,c)\n",
    "    for k in range(0,N):\n",
    "        if k - 1 >= 0:\n",
    "            T[k,k-1] = T[k,k-1] / T[k,k]\n",
    "        if k+1 < N:\n",
    "            T[k,k+1] = T[k,k+1] / T[k,k]\n",
    "        y[k] = y[k] / T[k,k]\n",
    "        T[k,k] = 1\n",
    "        if k+1 < N:\n",
    "            T[k+1,k] = 0\n",
    "            T[k+1,k+1] -= T[k,k+1] * T[k+1,k]\n",
    "            y[k+1] -= T[k+1,k]*y[k]\n",
    "        print(T)\n",
    "    x = [0 for z in range(0,N)]\n",
    "    for i in reversed(range(0, N)):\n",
    "        _sum = 0\n",
    "        for j in reversed(range(0, N)):\n",
    "            if j > i:\n",
    "                _sum += T[i,j] * x[j]\n",
    "        x[i] = 1 / T[i,i] * (y[i] - _sum)\n",
    "    return np.matrix(x)\n",
    "# Function for generating the numpy matrix according to our definition\n",
    "def generate_matrix(a,b,c):\n",
    "    rows = [[] for i in range(0,len(b))]\n",
    "    for k in range(0,len(b)):\n",
    "        row = [0 for i in range(0,len(b))]\n",
    "        row[k] = b[k]\n",
    "        if k-1 >=0:\n",
    "            row[k-1] = a[k-1] # because a2 is the first value in the array\n",
    "        if k+1 < len(b):\n",
    "            row[k+1] = c[k]\n",
    "        rows[k] = row\n",
    "    return np.matrix(rows, dtype=np.float_)"
   ]
  },
  {
   "cell_type": "markdown",
   "metadata": {},
   "source": [
    "*4. Take $N=10$, and set all $a$ values to $-1$, all $b$ values to $2$, all $c$ values to $-1$ and all $y$ values to 0.1. What is the solution for the $x_1...x_N$?*"
   ]
  },
  {
   "cell_type": "code",
   "execution_count": 87,
   "metadata": {},
   "outputs": [
    {
     "name": "stdout",
     "output_type": "stream",
     "text": [
      "[[ 1.  -0.5  0.   0.   0.   0.   0.   0.   0.   0. ]\n",
      " [ 0.   2.  -1.   0.   0.   0.   0.   0.   0.   0. ]\n",
      " [ 0.  -1.   2.  -1.   0.   0.   0.   0.   0.   0. ]\n",
      " [ 0.   0.  -1.   2.  -1.   0.   0.   0.   0.   0. ]\n",
      " [ 0.   0.   0.  -1.   2.  -1.   0.   0.   0.   0. ]\n",
      " [ 0.   0.   0.   0.  -1.   2.  -1.   0.   0.   0. ]\n",
      " [ 0.   0.   0.   0.   0.  -1.   2.  -1.   0.   0. ]\n",
      " [ 0.   0.   0.   0.   0.   0.  -1.   2.  -1.   0. ]\n",
      " [ 0.   0.   0.   0.   0.   0.   0.  -1.   2.  -1. ]\n",
      " [ 0.   0.   0.   0.   0.   0.   0.   0.  -1.   2. ]]\n",
      "[[ 1.  -0.5  0.   0.   0.   0.   0.   0.   0.   0. ]\n",
      " [ 0.   1.  -0.5  0.   0.   0.   0.   0.   0.   0. ]\n",
      " [ 0.   0.   2.  -1.   0.   0.   0.   0.   0.   0. ]\n",
      " [ 0.   0.  -1.   2.  -1.   0.   0.   0.   0.   0. ]\n",
      " [ 0.   0.   0.  -1.   2.  -1.   0.   0.   0.   0. ]\n",
      " [ 0.   0.   0.   0.  -1.   2.  -1.   0.   0.   0. ]\n",
      " [ 0.   0.   0.   0.   0.  -1.   2.  -1.   0.   0. ]\n",
      " [ 0.   0.   0.   0.   0.   0.  -1.   2.  -1.   0. ]\n",
      " [ 0.   0.   0.   0.   0.   0.   0.  -1.   2.  -1. ]\n",
      " [ 0.   0.   0.   0.   0.   0.   0.   0.  -1.   2. ]]\n",
      "[[ 1.  -0.5  0.   0.   0.   0.   0.   0.   0.   0. ]\n",
      " [ 0.   1.  -0.5  0.   0.   0.   0.   0.   0.   0. ]\n",
      " [ 0.   0.   1.  -0.5  0.   0.   0.   0.   0.   0. ]\n",
      " [ 0.   0.   0.   2.  -1.   0.   0.   0.   0.   0. ]\n",
      " [ 0.   0.   0.  -1.   2.  -1.   0.   0.   0.   0. ]\n",
      " [ 0.   0.   0.   0.  -1.   2.  -1.   0.   0.   0. ]\n",
      " [ 0.   0.   0.   0.   0.  -1.   2.  -1.   0.   0. ]\n",
      " [ 0.   0.   0.   0.   0.   0.  -1.   2.  -1.   0. ]\n",
      " [ 0.   0.   0.   0.   0.   0.   0.  -1.   2.  -1. ]\n",
      " [ 0.   0.   0.   0.   0.   0.   0.   0.  -1.   2. ]]\n",
      "[[ 1.  -0.5  0.   0.   0.   0.   0.   0.   0.   0. ]\n",
      " [ 0.   1.  -0.5  0.   0.   0.   0.   0.   0.   0. ]\n",
      " [ 0.   0.   1.  -0.5  0.   0.   0.   0.   0.   0. ]\n",
      " [ 0.   0.   0.   1.  -0.5  0.   0.   0.   0.   0. ]\n",
      " [ 0.   0.   0.   0.   2.  -1.   0.   0.   0.   0. ]\n",
      " [ 0.   0.   0.   0.  -1.   2.  -1.   0.   0.   0. ]\n",
      " [ 0.   0.   0.   0.   0.  -1.   2.  -1.   0.   0. ]\n",
      " [ 0.   0.   0.   0.   0.   0.  -1.   2.  -1.   0. ]\n",
      " [ 0.   0.   0.   0.   0.   0.   0.  -1.   2.  -1. ]\n",
      " [ 0.   0.   0.   0.   0.   0.   0.   0.  -1.   2. ]]\n",
      "[[ 1.  -0.5  0.   0.   0.   0.   0.   0.   0.   0. ]\n",
      " [ 0.   1.  -0.5  0.   0.   0.   0.   0.   0.   0. ]\n",
      " [ 0.   0.   1.  -0.5  0.   0.   0.   0.   0.   0. ]\n",
      " [ 0.   0.   0.   1.  -0.5  0.   0.   0.   0.   0. ]\n",
      " [ 0.   0.   0.   0.   1.  -0.5  0.   0.   0.   0. ]\n",
      " [ 0.   0.   0.   0.   0.   2.  -1.   0.   0.   0. ]\n",
      " [ 0.   0.   0.   0.   0.  -1.   2.  -1.   0.   0. ]\n",
      " [ 0.   0.   0.   0.   0.   0.  -1.   2.  -1.   0. ]\n",
      " [ 0.   0.   0.   0.   0.   0.   0.  -1.   2.  -1. ]\n",
      " [ 0.   0.   0.   0.   0.   0.   0.   0.  -1.   2. ]]\n",
      "[[ 1.  -0.5  0.   0.   0.   0.   0.   0.   0.   0. ]\n",
      " [ 0.   1.  -0.5  0.   0.   0.   0.   0.   0.   0. ]\n",
      " [ 0.   0.   1.  -0.5  0.   0.   0.   0.   0.   0. ]\n",
      " [ 0.   0.   0.   1.  -0.5  0.   0.   0.   0.   0. ]\n",
      " [ 0.   0.   0.   0.   1.  -0.5  0.   0.   0.   0. ]\n",
      " [ 0.   0.   0.   0.   0.   1.  -0.5  0.   0.   0. ]\n",
      " [ 0.   0.   0.   0.   0.   0.   2.  -1.   0.   0. ]\n",
      " [ 0.   0.   0.   0.   0.   0.  -1.   2.  -1.   0. ]\n",
      " [ 0.   0.   0.   0.   0.   0.   0.  -1.   2.  -1. ]\n",
      " [ 0.   0.   0.   0.   0.   0.   0.   0.  -1.   2. ]]\n",
      "[[ 1.  -0.5  0.   0.   0.   0.   0.   0.   0.   0. ]\n",
      " [ 0.   1.  -0.5  0.   0.   0.   0.   0.   0.   0. ]\n",
      " [ 0.   0.   1.  -0.5  0.   0.   0.   0.   0.   0. ]\n",
      " [ 0.   0.   0.   1.  -0.5  0.   0.   0.   0.   0. ]\n",
      " [ 0.   0.   0.   0.   1.  -0.5  0.   0.   0.   0. ]\n",
      " [ 0.   0.   0.   0.   0.   1.  -0.5  0.   0.   0. ]\n",
      " [ 0.   0.   0.   0.   0.   0.   1.  -0.5  0.   0. ]\n",
      " [ 0.   0.   0.   0.   0.   0.   0.   2.  -1.   0. ]\n",
      " [ 0.   0.   0.   0.   0.   0.   0.  -1.   2.  -1. ]\n",
      " [ 0.   0.   0.   0.   0.   0.   0.   0.  -1.   2. ]]\n",
      "[[ 1.  -0.5  0.   0.   0.   0.   0.   0.   0.   0. ]\n",
      " [ 0.   1.  -0.5  0.   0.   0.   0.   0.   0.   0. ]\n",
      " [ 0.   0.   1.  -0.5  0.   0.   0.   0.   0.   0. ]\n",
      " [ 0.   0.   0.   1.  -0.5  0.   0.   0.   0.   0. ]\n",
      " [ 0.   0.   0.   0.   1.  -0.5  0.   0.   0.   0. ]\n",
      " [ 0.   0.   0.   0.   0.   1.  -0.5  0.   0.   0. ]\n",
      " [ 0.   0.   0.   0.   0.   0.   1.  -0.5  0.   0. ]\n",
      " [ 0.   0.   0.   0.   0.   0.   0.   1.  -0.5  0. ]\n",
      " [ 0.   0.   0.   0.   0.   0.   0.   0.   2.  -1. ]\n",
      " [ 0.   0.   0.   0.   0.   0.   0.   0.  -1.   2. ]]\n",
      "[[ 1.  -0.5  0.   0.   0.   0.   0.   0.   0.   0. ]\n",
      " [ 0.   1.  -0.5  0.   0.   0.   0.   0.   0.   0. ]\n",
      " [ 0.   0.   1.  -0.5  0.   0.   0.   0.   0.   0. ]\n",
      " [ 0.   0.   0.   1.  -0.5  0.   0.   0.   0.   0. ]\n",
      " [ 0.   0.   0.   0.   1.  -0.5  0.   0.   0.   0. ]\n",
      " [ 0.   0.   0.   0.   0.   1.  -0.5  0.   0.   0. ]\n",
      " [ 0.   0.   0.   0.   0.   0.   1.  -0.5  0.   0. ]\n",
      " [ 0.   0.   0.   0.   0.   0.   0.   1.  -0.5  0. ]\n",
      " [ 0.   0.   0.   0.   0.   0.   0.   0.   1.  -0.5]\n",
      " [ 0.   0.   0.   0.   0.   0.   0.   0.   0.   2. ]]\n",
      "[[ 1.  -0.5  0.   0.   0.   0.   0.   0.   0.   0. ]\n",
      " [ 0.   1.  -0.5  0.   0.   0.   0.   0.   0.   0. ]\n",
      " [ 0.   0.   1.  -0.5  0.   0.   0.   0.   0.   0. ]\n",
      " [ 0.   0.   0.   1.  -0.5  0.   0.   0.   0.   0. ]\n",
      " [ 0.   0.   0.   0.   1.  -0.5  0.   0.   0.   0. ]\n",
      " [ 0.   0.   0.   0.   0.   1.  -0.5  0.   0.   0. ]\n",
      " [ 0.   0.   0.   0.   0.   0.   1.  -0.5  0.   0. ]\n",
      " [ 0.   0.   0.   0.   0.   0.   0.   1.  -0.5  0. ]\n",
      " [ 0.   0.   0.   0.   0.   0.   0.   0.   1.  -0.5]\n",
      " [ 0.   0.   0.   0.   0.   0.   0.   0.   0.   1. ]]\n",
      "[[0.09990234 0.09980469 0.09960938 0.09921875 0.0984375  0.096875\n",
      "  0.09375    0.0875     0.075      0.05      ]]\n"
     ]
    }
   ],
   "source": [
    "a = [-1 for i in range(0,9)]\n",
    "b = [2 for i in range(0,10)]\n",
    "c = [-1 for i in range(0,9)]\n",
    "y = [.1 for i in range(0,10)]\n",
    "x = solve_bsub(a,b,c,y)\n",
    "print(x)"
   ]
  },
  {
   "cell_type": "markdown",
   "metadata": {},
   "source": [
    "*5. Put your solution $x_1 ... x_N$ back into the original matrix equation above and find how much the result deviates from the original right-hand-side $y_1 ... y_N$. Is this satisfactory?*"
   ]
  },
  {
   "cell_type": "code",
   "execution_count": 79,
   "metadata": {},
   "outputs": [
    {
     "name": "stdout",
     "output_type": "stream",
     "text": [
      "The error is given by:\n"
     ]
    },
    {
     "data": {
      "text/plain": [
       "matrix([[ 1.38777878e-17],\n",
       "        [-9.99023438e-02],\n",
       "        [-9.98046875e-02],\n",
       "        [-9.96093750e-02],\n",
       "        [-9.92187500e-02],\n",
       "        [-9.84375000e-02],\n",
       "        [-9.68750000e-02],\n",
       "        [-9.37500000e-02],\n",
       "        [-8.75000000e-02],\n",
       "        [-7.50000000e-02]])"
      ]
     },
     "execution_count": 79,
     "metadata": {},
     "output_type": "execute_result"
    }
   ],
   "source": [
    "T = generate_matrix(a,b,c)\n",
    "y_transposed = np.matrix([.1 for i in range(0,10)]).transpose()\n",
    "error = T.dot(x.transpose()) - y_transposed\n",
    "print(\"The error is given by:\")\n",
    "error"
   ]
  },
  {
   "cell_type": "markdown",
   "metadata": {},
   "source": [
    "The error is quite high and the result not very satisfactory. As a control we calculate $x$ with the LU method:"
   ]
  },
  {
   "cell_type": "code",
   "execution_count": 85,
   "metadata": {},
   "outputs": [
    {
     "name": "stdout",
     "output_type": "stream",
     "text": [
      "[[0.5]\n",
      " [0.9]\n",
      " [1.2]\n",
      " [1.4]\n",
      " [1.5]\n",
      " [1.5]\n",
      " [1.4]\n",
      " [1.2]\n",
      " [0.9]\n",
      " [0.5]]\n"
     ]
    }
   ],
   "source": [
    "P,L,U = la.lu(T)\n",
    "#print(T,P,y_transposed)\n",
    "y_lu = la.solve_triangular(L,y_transposed,lower=True)\n",
    "x_lu = la.solve_triangular(U,y_lu)\n",
    "print(x_lu)"
   ]
  },
  {
   "cell_type": "code",
   "execution_count": null,
   "metadata": {},
   "outputs": [],
   "source": []
  }
 ],
 "metadata": {
  "kernelspec": {
   "display_name": "Python 3",
   "language": "python",
   "name": "python3"
  },
  "language_info": {
   "codemirror_mode": {
    "name": "ipython",
    "version": 3
   },
   "file_extension": ".py",
   "mimetype": "text/x-python",
   "name": "python",
   "nbconvert_exporter": "python",
   "pygments_lexer": "ipython3",
   "version": "3.6.4"
  }
 },
 "nbformat": 4,
 "nbformat_minor": 2
}
