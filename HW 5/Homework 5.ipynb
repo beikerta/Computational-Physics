{
 "cells": [
  {
   "cell_type": "markdown",
   "metadata": {},
   "source": [
    "**Homework: perturbed quantum mechanical oscillator**"
   ]
  },
  {
   "cell_type": "markdown",
   "metadata": {},
   "source": [
    "**Alexandra Beikert, Pascal Huber, León-Alexander Hühn**"
   ]
  },
  {
   "cell_type": "markdown",
   "metadata": {},
   "source": [
    "*(a) Determine the matrix form of $Q^4$ using*  \n",
    "$$ Q_{nm} = \\frac{1}{\\sqrt 2} \\left( \\sqrt{n+1} \\delta_{n,m-1} + \\sqrt n \\delta_{n,m+1}\\right) $$  "
   ]
  },
  {
   "cell_type": "markdown",
   "metadata": {},
   "source": [
    "Using the creation operator $a^\\dagger$ and the annihilation operator $a$, $Q$ can be written as  \n",
    "$$ Q = \\frac{1}{\\sqrt 2} (a^\\dagger + a) $$  \n",
    "Therefore, $Q^4$ is given by  \n",
    "$ Q^4 = \\frac{1}{4} \\left[ a^4 + a^3a^\\dagger + a^2a^\\dagger a+a^2{a^\\dagger}^2 + aa^\\dagger a^2 + aa^\\dagger aa^\\dagger + a{a^\\dagger}^2a + a{a^\\dagger}^3 + a^\\dagger a^3+a^\\dagger a^2a^\\dagger + a^\\dagger a a^\\dagger a + a^\\dagger a {a^\\dagger}^2 + {a^\\dagger}^2 a^2 + {a^\\dagger}^2 a^2 + {a^\\dagger}^2 a a^\\dagger + {a^\\dagger}^3 a + a^4\\right]$  \n",
    "Using $a^\\dagger a |n> = n|n>$ and $aa^\\dagger |n> = (n+1)|n>$, one can calculate the matrix form  \n",
    "$ <n|Q|m> = Q_{nm} = \\frac{1}{4} \\left[ \\sqrt{m(m-1)(m-2)(m-3)}\\delta_{n,m-4} + \\left( (m+1)\\sqrt{m/m-1)} + m \\sqrt{m(m-1)} + (m-1)\\sqrt{m(m-1)} + (m-2)\\sqrt{m/m-1} \\right) \\delta_{n,m-2} + \\left( (m+1)(m+2) + (m+1)^2 + m(m+1)+m^2+m(m-1)\\right) \\delta_{nm} + \\left( (m+3)\\sqrt{(m+1)(m+2)}+(m+2)\\sqrt{(m+1)(m+2)}+(m+1)\\sqrt{(m+1)(m+2)}+m\\sqrt{(m+1)(m+2)}\\right) \\delta_{n,m+2} + \\sqrt{(m+1)(m+2)(m+3)(m+4)} \\delta_{n,m+4}\\right]  \n",
    "= \\frac{1}{4} \\left[ \\sqrt{m(m-1)(m-2)(m-3)} \\delta_{n,m-4} + \\sqrt{m(m-1)}(4m-2)\\delta_{n,m-2} + (5m^2+5m+3) \\delta_{nm} + \\sqrt{(m+1)(m+2)} (4m+6) \\delta_{m+2} + \\sqrt{(m+1)(m+2)(m+3)(m+4)} \\delta_{n,m+4}\\right]$"
   ]
  },
  {
   "cell_type": "markdown",
   "metadata": {},
   "source": [
    "*(b) Compute the eigenvalues of $(h)_{nm}$ for the parameter $\\lambda = 0.1$ as function of the matrix size ($N = 15...30$). Demonstrate that your program works properly, just listing the eigenvalues is not sufficient.*"
   ]
  },
  {
   "cell_type": "code",
   "execution_count": 1,
   "metadata": {},
   "outputs": [],
   "source": [
    "# Import neccessary librarys\n",
    "import numpy as np\n",
    "import xalglib # Needs to be installed\n",
    "import scipy.linalg as la\n",
    "import matplotlib.pyplot as plt"
   ]
  },
  {
   "cell_type": "code",
   "execution_count": 2,
   "metadata": {},
   "outputs": [],
   "source": [
    "# Parameter given by the task\n",
    "lambda_ = 0.1\n",
    "\n",
    "# Generates the matrix h_nm of the dimension NxN\n",
    "def gen_matrix(N):\n",
    "    # Generate numpy indices that work as a delta funcion\n",
    "    n, m = np.indices((N,N))\n",
    "    # Unperturbed oszillator\n",
    "    h0 = (n + .5) * (n==m)\n",
    "    # Q⁴ as given by a\n",
    "    Q4 = .25 * (np.sqrt(m*(m-1)*(m-2)*(m-3))*(m-4==n)+np.sqrt(m*(m-1))*(4*m-2)*(m-2==n)+\n",
    "                       (5*m**2+5*m+3)*(n==m)+np.sqrt((m+1)*(m+2))*(4*m+6)*(m+2==n)+\n",
    "                        np.sqrt((m+1)*(m+2)*(m+3)*(m+4))*(n==m+4))\n",
    "    # Final hamiltonian\n",
    "    return (h0 + lambda_*Q4)"
   ]
  },
  {
   "cell_type": "code",
   "execution_count": 3,
   "metadata": {},
   "outputs": [],
   "source": [
    "# Calculate the eigenvalues using the smatrixtd routine to get the tridiagonal form, and scipy to get the eigenvalues\n",
    "def calc_eigv(N,n):\n",
    "    _,_,d,e = xalglib.smatrixtd(gen_matrix(N).tolist(), N, True)\n",
    "    eigenvalues, eigenvectors = la.eigh_tridiagonal(d,e)\n",
    "    # Return only the first n eigenvalues\n",
    "    return eigenvalues[0:n]"
   ]
  },
  {
   "cell_type": "code",
   "execution_count": 4,
   "metadata": {},
   "outputs": [
    {
     "data": {
      "image/png": "[encoded data removed]",
      "text/plain": [
       "<Figure size 576x360 with 1 Axes>"
      ]
     },
     "metadata": {
      "needs_background": "light"
     },
     "output_type": "display_data"
    },
    {
     "name": "stdout",
     "output_type": "stream",
     "text": [
      "First 10 eigenvalues for N=30:  [ 0.55830221  1.71126955  2.95389513  4.23223753  5.50779044  6.74514491\n",
      "  7.9053266   8.93584983  9.71564073 10.08821026]\n"
     ]
    }
   ],
   "source": [
    "# Amount of eigenvalues we are interested in\n",
    "n = 10\n",
    "# Range of N we are interested in\n",
    "N_range = range(15,31)\n",
    "values=np.zeros((n,len(N_range)))\n",
    "\n",
    "# Get plot data\n",
    "for N in N_range:\n",
    "    values[:,N-15] = calc_eigv(N,n)\n",
    "\n",
    "# Plot\n",
    "plt.figure(figsize=(8,5))\n",
    "plt.xlabel(\"N\")\n",
    "plt.ylabel(\"$\\lambda_n$\")\n",
    "plt.title(\"Trend of the eigenvalues for different N\")\n",
    "for n in range(n):\n",
    "    plt.plot(N_range, values[n,:], label=\"n = \"+ str(n))\n",
    "plt.legend()\n",
    "plt.show()\n",
    "print(\"First 10 eigenvalues for N=30: \", calc_eigv(30,10))"
   ]
  },
  {
   "cell_type": "markdown",
   "metadata": {},
   "source": [
    "The plot shows that the eigenvalues of the perturbed oszillator are close to the unperturbed ones, as you would expect. For larger n, the eigenvalues obviously differ from the expected ones. They converge to the real values as $N \\rightarrow \\infty$. This is because the real physical system is reached for $N=\\infty$"
   ]
  },
  {
   "cell_type": "markdown",
   "metadata": {},
   "source": [
    "*(c) Calculate the eigenvalues analytically using the linearized form of the equation, i.e.consider only the terms on the diagonal.*"
   ]
  },
  {
   "cell_type": "markdown",
   "metadata": {},
   "source": [
    "We consider only the diagonal elements of h, that means $(h)_{mm}$ . So we have a diagonal matrix. The eigenvalues are just the entries on the diagonal. The result is (as calculated above):\n",
    "\n",
    "$\\lambda_{m} = (m+\\frac{1}{2})+\\lambda_{param} \\frac{1}{4} (5 m^2 + 5 m + 3)$\n",
    "\n",
    "The first values are: $0.575, 1.825, 3.325, 5.075, 7.075, 9.325 ...$ with $\\lambda_{param} = 0.1$\n",
    "\n",
    "The first values are quite similar to the values at (b), but one can observe a larger increase."
   ]
  }
 ],
 "metadata": {
  "kernelspec": {
   "display_name": "Python 3",
   "language": "python",
   "name": "python3"
  },
  "language_info": {
   "codemirror_mode": {
    "name": "ipython",
    "version": 3
   },
   "file_extension": ".py",
   "mimetype": "text/x-python",
   "name": "python",
   "nbconvert_exporter": "python",
   "pygments_lexer": "ipython3",
   "version": "3.7.3"
  }
 },
 "nbformat": 4,
 "nbformat_minor": 2
}
