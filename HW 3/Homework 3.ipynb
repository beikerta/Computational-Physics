{
 "cells": [
  {
   "cell_type": "markdown",
   "metadata": {},
   "source": [
    "**2 Neutrons in the gravitational field (Homework)**"
   ]
  },
  {
   "cell_type": "markdown",
   "metadata": {},
   "source": [
    "The Schrödinger equation for the gravitational potential $V(z) = mgz$ is given by  \n",
    "$$ \\Psi''(z) + \\frac{2m}{\\hbar^2} (E-mgz)\\Psi(z) = 0 $$  \n",
    "Using the length units  \n",
    "$$ x = \\frac{z}{z_0} \\quad \\text{with} \\quad z_0 = \\left(\\frac{\\hbar^2}{2m^2g}\\right)^\\frac{1}{3}$$  \n",
    "and  \n",
    "$$ \\varepsilon = \\frac{E}{E_0} \\quad \\text{with} \\quad E_0 = mgz_0$$  \n",
    "the equation can be written as  \n",
    "$$ \\Psi''(x) + (\\varepsilon - x) \\Psi(x) = 0 $$\n",
    "<sub>Source: <a href=\"https://www.physi.uni-heidelberg.de/Publications/dipl_krantz.pdf\">https://www.physi.uni-heidelberg.de/Publications/dipl_krantz.pdf</a>, page 11</sub>"
   ]
  },
  {
   "cell_type": "code",
   "execution_count": 6,
   "metadata": {},
   "outputs": [
    {
     "data": {
      "image/png": "[encoded data removed]",
      "text/plain": [
       "<Figure size 576x360 with 1 Axes>"
      ]
     },
     "metadata": {
      "needs_background": "light"
     },
     "output_type": "display_data"
    }
   ],
   "source": [
    "import numpy as np\n",
    "import matplotlib.pyplot as plt\n",
    "\n",
    "# Appends yn+1 to y and returns it for given yn, xn\n",
    "# k is the function in the schrodinger equation\n",
    "def numerov_step(y, k, x):\n",
    "    yn1 = 1/(1+1/12 * h**2 * k(x+h)) * (2 * y[-1] * (1- 5/12 * h**2 * k(x)) - y[-2] * (1+ 1/12 * h**2 * k(x-h)))\n",
    "    y.append(yn1)\n",
    "    return y\n",
    "\n",
    "# Run steps forward n times\n",
    "def numerov_run(y0, x0, k, n):\n",
    "    y = y0\n",
    "    for i in range(0,n):\n",
    "        numerov_step(y, k, x0+i*h)\n",
    "    return y\n",
    "\n",
    "# Set initial values\n",
    "t = 10\n",
    "x0 = 0\n",
    "\n",
    "# Define parameters for algorithm\n",
    "h = 0.001\n",
    "n = int(t/h)\n",
    "a = 1\n",
    "\n",
    "# First result\n",
    "epsilon = 1\n",
    "\n",
    "def k(x):\n",
    "    return epsilon - x\n",
    "# Use initioal conditions from task 1\n",
    "y = numerov_run([a, a-h**2 * k(x0) * a / 2], x0, k, n)\n",
    "# Generate x values\n",
    "x = []\n",
    "for i in range(0,n+2):\n",
    "    x.append(x0 + i*h)\n",
    "x = np.array(x)\n",
    "# Plot the first result\n",
    "plt.figure(figsize=(8,5))\n",
    "plt.title(r\"Two solutions for a neutron in the gravitational field ($\\varepsilon = 1$ and $\\varepsilon = 2$)\")\n",
    "plt.xlabel(\"x\")\n",
    "plt.ylabel(\"y\")\n",
    "plt.ylim((-5000,5000))\n",
    "plt.plot(x,y, label=r\"$\\varepsilon = 1$\")\n",
    "# Second result\n",
    "epsilon = 2\n",
    "y = numerov_run([a, a-h**2 * k(x0) * a / 2], x0, k, n)\n",
    "plt.plot(x,y, label=r\"$\\varepsilon = 2$\")\n",
    "plt.legend()\n",
    "plt.show()"
   ]
  },
  {
   "cell_type": "code",
   "execution_count": null,
   "metadata": {},
   "outputs": [],
   "source": []
  }
 ],
 "metadata": {
  "kernelspec": {
   "display_name": "Python 3",
   "language": "python",
   "name": "python3"
  },
  "language_info": {
   "codemirror_mode": {
    "name": "ipython",
    "version": 3
   },
   "file_extension": ".py",
   "mimetype": "text/x-python",
   "name": "python",
   "nbconvert_exporter": "python",
   "pygments_lexer": "ipython3",
   "version": "3.6.8"
  }
 },
 "nbformat": 4,
 "nbformat_minor": 2
}
